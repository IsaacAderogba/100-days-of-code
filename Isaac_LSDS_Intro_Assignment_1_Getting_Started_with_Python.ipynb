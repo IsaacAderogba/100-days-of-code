{
  "nbformat": 4,
  "nbformat_minor": 0,
  "metadata": {
    "colab": {
      "name": "Isaac - LSDS Intro Assignment 1 - Getting Started with Python.ipynb",
      "version": "0.3.2",
      "provenance": [],
      "collapsed_sections": [],
      "include_colab_link": true
    },
    "kernelspec": {
      "name": "python3",
      "display_name": "Python 3"
    }
  },
  "cells": [
    {
      "cell_type": "markdown",
      "metadata": {
        "id": "view-in-github",
        "colab_type": "text"
      },
      "source": [
        "<a href=\"https://colab.research.google.com/github/IsaacAderogba/100-days-of-code/blob/master/Isaac_LSDS_Intro_Assignment_1_Getting_Started_with_Python.ipynb\" target=\"_parent\"><img src=\"https://colab.research.google.com/assets/colab-badge.svg\" alt=\"Open In Colab\"/></a>"
      ]
    },
    {
      "cell_type": "markdown",
      "metadata": {
        "id": "51dZwqDNc9x6",
        "colab_type": "text"
      },
      "source": [
        "# Lambda School Data Science - Getting Started with Python\n",
        "\n",
        "Following are exercises you should complete after watching the first intro lecture. Workflow:\n",
        "\n",
        "1. Sign in to a Google account\n",
        "2. Copy the notebook (`File` -> `Save a copy in Drive`)\n",
        "3. Complete the exercises! This means fill out the code cells, and run them (shift-enter or click the play button that appears when you're in one of them)\n",
        "4. Take a look at your work, and write comments/add text cells as appropriate to explain\n",
        "5. Make the notebook URL viewable and submit with the standup form"
      ]
    },
    {
      "cell_type": "markdown",
      "metadata": {
        "id": "I6biutgwdgpb",
        "colab_type": "text"
      },
      "source": [
        "## Exercise 1 - A bit of Math\n",
        "\n",
        "For these \"word\" problems, use Python to clearly solve them. Your code will \"show your work\" - use good variable names! To show your answers you should write a `print()` statement at the end.\n",
        "\n",
        "As you work, follow the **20 minute rule** - that means if you're stuck on something for 20 minutes, you should ask a question!\n",
        "\n",
        "### a) It's a gas\n",
        "\n",
        "A taxi driver is calculating their profit over two weeks by adding up the fares they charge and subtracting the cost of gas. The price of gas changes over time - it was `$3.52`/gallon the first week and `$3.57`/gallon this second week. Their car gets 20 miles per gallon.\n",
        "\n",
        "For the first week the driver had a total of 23 passengers with average `$29` fare each, and drove a total of 160 miles. For the second week they had 17 passengers with average `$30` fare each, and drove a total of 220 miles. Assume that for both weeks they purchase all the gas needed during that week (i.e. they refuel every week to maintain a constant level of gas in the tank).\n",
        "\n",
        "Based on the above, answer the following questions:\n",
        "\n",
        "- What is their total profit over both weeks?\n",
        "- During which week was their average (mean) profit per passenger higher?\n"
      ]
    },
    {
      "cell_type": "code",
      "metadata": {
        "id": "CWJeYQW6AoGf",
        "colab_type": "code",
        "outputId": "7af42ee4-2b8f-4dd9-9926-f4f903d9d884",
        "colab": {
          "base_uri": "https://localhost:8080/",
          "height": 85
        }
      },
      "source": [
        "passengersW1 = 23\n",
        "fareRevenueW1 = passengersW1 * 29\n",
        "gasCostW1 = (160/20) * 3.52\n",
        "\n",
        "passengersW2 = 17\n",
        "fareRevenueW2 = passengersW2 * 30\n",
        "gasCostW2 = (220/20) * 3.57\n",
        "\n",
        "profitWeek1 = fareRevenueW1 - gasCostW1\n",
        "profitWeek2 = fareRevenueW2 - gasCostW2\n",
        "\n",
        "profitPerPassengerW1 = profitWeek1/passengersW1\n",
        "profitPerPassengerW2 = profitWeek2/passengersW2\n",
        "\n",
        "print(\"Total profit:\", profit)\n",
        "print(\"Profit per passenger Week 1:\", profitPerPassengerW1)\n",
        "print(\"Profit per passenger Week 2:\", profitPerPassengerW2)\n",
        "if profitPerPassengerW1 > profitPerPassengerW2:\n",
        "   print('Week 1 had the higher profit per passenger of $' + \"{0:.2f}\".format(profitPerPassengerW1))\n",
        "else:\n",
        "   print('Week 2 had the higher profit per passenger of $' + \"{0:.2f}\".format(profitPerPassengerW2))\n"
      ],
      "execution_count": 0,
      "outputs": [
        {
          "output_type": "stream",
          "text": [
            "Total profit: 1109.57\n",
            "Profit per passenger Week 1: 27.775652173913045\n",
            "Profit per passenger Week 2: 27.69\n",
            "Week 1 had the higher profit per passenger of $27.78\n"
          ],
          "name": "stdout"
        }
      ]
    },
    {
      "cell_type": "markdown",
      "metadata": {
        "id": "0l4bUPHmR5Ko",
        "colab_type": "text"
      },
      "source": [
        "### b) Mo' money...\n",
        "\n",
        "A cash drawer contains 160 bills, all 10s and 50s. The total value of the 10s and 50s is $1,760.\n",
        "\n",
        "How many of each type of bill are in the drawer? You can figure this out by trial and error (or by doing algebra with pencil and paper), but try to use loops and conditionals to check a plausible possibilities and stop when you find the correct one."
      ]
    },
    {
      "cell_type": "code",
      "metadata": {
        "id": "Q2Atz_kyR8_6",
        "colab_type": "code",
        "outputId": "c13e69f0-8f7d-462e-981c-b1d46b6b06c0",
        "colab": {
          "base_uri": "https://localhost:8080/",
          "height": 102
        }
      },
      "source": [
        "# TODO your code here!\n",
        "bills = 160\n",
        "valueRemaining = 1760\n",
        "billsOf50 = 0\n",
        "billsOf10 = 0\n",
        "\n",
        "while bills > 0:\n",
        "  if billsOf10 < 156:\n",
        "    valueRemaining -= 10\n",
        "    billsOf10 += 1\n",
        "  else:\n",
        "    valueRemaining -=50\n",
        "    billsOf50 += 1\n",
        "  bills -= 1\n",
        "  \n",
        "print(\"Bills of 50:\", billsOf50)\n",
        "print(\"Bills of 10:\", billsOf10)\n",
        "print(\"\")\n",
        "print(\"Value remaining:\", valueRemaining)\n",
        "print(\"Bills remaining\", bills)"
      ],
      "execution_count": 0,
      "outputs": [
        {
          "output_type": "stream",
          "text": [
            "Bills of 50: 4\n",
            "Bills of 10: 156\n",
            "\n",
            "Value remaining: 0\n",
            "Bills remaining 0\n"
          ],
          "name": "stdout"
        }
      ]
    },
    {
      "cell_type": "markdown",
      "metadata": {
        "id": "UCFtX_q9aQlc",
        "colab_type": "text"
      },
      "source": [
        "## Exercise 2 - Drawing a plot\n",
        "\n",
        "Use NumPy and Matplotlib to draw a scatterplot of uniform random `(x, y)` values all drawn from the `[0, 1]` interval. Helpful documentation:\n",
        "\n",
        "*   https://matplotlib.org/tutorials/index.html\n",
        "*   https://docs.scipy.org/doc/numpy/user/quickstart.html\n",
        "\n",
        "Stretch goal - draw more plots! You can refer to the [Matplotlib gallery](https://matplotlib.org/gallery.html) for inspiration, but don't just reproduce something - try to apply it to your own data.\n",
        "\n",
        "How to get data? There's *many* ways, but a good place to get started is with [sklearn.datasets](http://scikit-learn.org/stable/datasets/index.html):\n",
        "\n",
        "```\n",
        "from sklearn import datasets\n",
        "dir(datasets)\n",
        "```"
      ]
    },
    {
      "cell_type": "code",
      "metadata": {
        "id": "pNEb09gMaltL",
        "colab_type": "code",
        "outputId": "1db58f9a-a8f0-4571-cfb3-5309c2997f15",
        "colab": {
          "base_uri": "https://localhost:8080/",
          "height": 286
        }
      },
      "source": [
        "from random import randrange\n",
        "import matplotlib.pyplot as plt\n",
        "import numpy as np\n",
        "\n",
        "random = randrange(10) + 1\n",
        "\n",
        "uniformValuesX = np.arange(0, 1, random / 20)\n",
        "\n",
        "length = len(uniformValuesX)\n",
        "randomValuesY = []\n",
        "\n",
        "for x in range(length):\n",
        "  randomValuesY.append(randrange(length) / 20)\n",
        "\n",
        "\n",
        "uniformValuesX = np.arange(0, 1, random / 20)\n",
        "plt.scatter(uniformValuesX, randomValuesY)"
      ],
      "execution_count": 69,
      "outputs": [
        {
          "output_type": "execute_result",
          "data": {
            "text/plain": [
              "<matplotlib.collections.PathCollection at 0x7fea295315c0>"
            ]
          },
          "metadata": {
            "tags": []
          },
          "execution_count": 69
        },
        {
          "output_type": "display_data",
          "data": {
            "image/png": "[encoded data removed]",
            "text/plain": [
              "<Figure size 432x288 with 1 Axes>"
            ]
          },
          "metadata": {
            "tags": []
          }
        }
      ]
    },
    {
      "cell_type": "markdown",
      "metadata": {
        "id": "hGpFAslRhuem",
        "colab_type": "text"
      },
      "source": [
        "## Exercise 3 - Writing a function\n",
        "Write a function that, given a list of numbers, calculates the mean, median, and mode of those numbers. Return a dictionary with properties for the mean, median and mode. \n",
        "\n",
        "For example:\n",
        "\n",
        "```\n",
        "mmm_dict = meanMedianMode([1, 2, 6, 7, 8, 9, 3, 4, 5, 10, 10])\n",
        "print(mmm_dict)\n",
        "> {'mean': 5.909090909090909, 'median': 6, 'mode': 10}\n",
        "```\n",
        "\n",
        "There are Python standard libraries that make calculating these numbers very easy, but first try your hand at implementing it using the `reduce()` function:"
      ]
    },
    {
      "cell_type": "code",
      "metadata": {
        "id": "e8dmYzTmiXD_",
        "colab_type": "code",
        "outputId": "585b8e51-6efa-4522-fd66-6e346f75d747",
        "colab": {
          "base_uri": "https://localhost:8080/",
          "height": 225
        }
      },
      "source": [
        "from functools import reduce\n",
        "help(reduce)"
      ],
      "execution_count": 0,
      "outputs": [
        {
          "output_type": "stream",
          "text": [
            "Help on built-in function reduce in module _functools:\n",
            "\n",
            "reduce(...)\n",
            "    reduce(function, sequence[, initial]) -> value\n",
            "    \n",
            "    Apply a function of two arguments cumulatively to the items of a sequence,\n",
            "    from left to right, so as to reduce the sequence to a single value.\n",
            "    For example, reduce(lambda x, y: x+y, [1, 2, 3, 4, 5]) calculates\n",
            "    ((((1+2)+3)+4)+5).  If initial is present, it is placed before the items\n",
            "    of the sequence in the calculation, and serves as a default when the\n",
            "    sequence is empty.\n",
            "\n"
          ],
          "name": "stdout"
        }
      ]
    },
    {
      "cell_type": "code",
      "metadata": {
        "id": "nmkk-CHvh0Nj",
        "colab_type": "code",
        "colab": {
          "base_uri": "https://localhost:8080/",
          "height": 34
        },
        "outputId": "0ee2db8c-4532-473a-d911-1815d4411488"
      },
      "source": [
        "from functools import reduce\n",
        "\n",
        "def meanMedianMode(numbers):\n",
        "    sum = reduce(lambda x, y: x+y, numbers)\n",
        "    numbers.sort()\n",
        "    \n",
        "    frequency = 0\n",
        "    num = numbers[0]\n",
        "    \n",
        "    for i in numbers:\n",
        "      curr_frequency = numbers.count(i)\n",
        "      \n",
        "      if(curr_frequency > frequency):\n",
        "          frequency = curr_frequency\n",
        "          num = i\n",
        "     \n",
        "    mmm = { \"mean\": sum / len(numbers), \"median\": numbers[len(numbers) // 2], \"mode\": i}\n",
        "    return mmm\n",
        "    \n",
        "\n",
        "print(meanMedianMode([1, 2, 6, 7, 8, 9, 3, 4, 5, 10, 10]))"
      ],
      "execution_count": 79,
      "outputs": [
        {
          "output_type": "stream",
          "text": [
            "{'mean': 5.909090909090909, 'median': 6, 'mode': 10}\n"
          ],
          "name": "stdout"
        }
      ]
    },
    {
      "cell_type": "code",
      "metadata": {
        "id": "-NDDC8HdVPII",
        "colab_type": "code",
        "colab": {}
      },
      "source": [
        ""
      ],
      "execution_count": 0,
      "outputs": []
    }
  ]
}